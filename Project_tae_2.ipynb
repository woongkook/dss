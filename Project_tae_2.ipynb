{
 "cells": [
  {
   "cell_type": "code",
   "execution_count": 1,
   "metadata": {},
   "outputs": [],
   "source": [
    "import numpy as np\n",
    "import matplotlib as mpl\n",
    "import matplotlib.pyplot as plt\n",
    "import seaborn as sns\n",
    "import pandas as pd\n",
    "import datetime as dt\n",
    "from datetime import date\n",
    "import calendar\n",
    "from calendar import weekday, day_name"
   ]
  },
  {
   "cell_type": "code",
   "execution_count": 2,
   "metadata": {},
   "outputs": [],
   "source": [
    "key = pd.read_csv('key.csv')\n",
    "weather = pd.read_csv('weather.csv', parse_dates=['date'])\n",
    "train = pd.read_csv('train.csv', parse_dates=['date'])"
   ]
  },
  {
   "cell_type": "code",
   "execution_count": 3,
   "metadata": {},
   "outputs": [],
   "source": [
    "train = pd.merge(train,key)"
   ]
  },
  {
   "cell_type": "code",
   "execution_count": 4,
   "metadata": {},
   "outputs": [],
   "source": [
    "rt = train[train['units'] > 0].sort_values(by=['units'], ascending=False).reset_index(drop=True)"
   ]
  },
  {
   "cell_type": "code",
   "execution_count": 5,
   "metadata": {},
   "outputs": [
    {
     "name": "stderr",
     "output_type": "stream",
     "text": [
      "/usr/local/lib/python3.6/site-packages/ipykernel_launcher.py:10: DeprecationWarning: \n",
      ".ix is deprecated. Please use\n",
      ".loc for label based indexing or\n",
      ".iloc for positional indexing\n",
      "\n",
      "See the documentation here:\n",
      "http://pandas.pydata.org/pandas-docs/stable/indexing.html#ix-indexer-is-deprecated\n",
      "  # Remove the CWD from sys.path while we load stuff.\n"
     ]
    }
   ],
   "source": [
    "# weahter: codesum split & get dummies\n",
    "\n",
    "# extract codsum unique values\n",
    "cs_iter = (set(x.split(' ')) for x in weather.codesum)\n",
    "cs = sorted(set.union(*cs_iter))\n",
    "\n",
    "dummies = pd.DataFrame(np.zeros((len(weather), len(cs))), columns = cs)\n",
    "\n",
    "for i, gen in enumerate(weather.codesum):\n",
    "    dummies.ix[i, gen.split(' ')] = 1\n",
    "    \n",
    "weather_cs = weather.join(dummies)\n",
    "del weather_cs['codesum']\n",
    "del weather_cs['']"
   ]
  },
  {
   "cell_type": "code",
   "execution_count": 6,
   "metadata": {},
   "outputs": [],
   "source": [
    "df = pd.merge(rt, weather_cs, on=['date', 'station_nbr'])"
   ]
  },
  {
   "cell_type": "code",
   "execution_count": 7,
   "metadata": {},
   "outputs": [
    {
     "data": {
      "text/html": [
       "<div>\n",
       "<style scoped>\n",
       "    .dataframe tbody tr th:only-of-type {\n",
       "        vertical-align: middle;\n",
       "    }\n",
       "\n",
       "    .dataframe tbody tr th {\n",
       "        vertical-align: top;\n",
       "    }\n",
       "\n",
       "    .dataframe thead th {\n",
       "        text-align: right;\n",
       "    }\n",
       "</style>\n",
       "<table border=\"1\" class=\"dataframe\">\n",
       "  <thead>\n",
       "    <tr style=\"text-align: right;\">\n",
       "      <th></th>\n",
       "      <th>year</th>\n",
       "      <th>month</th>\n",
       "      <th>day</th>\n",
       "      <th>name</th>\n",
       "    </tr>\n",
       "  </thead>\n",
       "  <tbody>\n",
       "    <tr>\n",
       "      <th>53</th>\n",
       "      <td>2014</td>\n",
       "      <td>Jun</td>\n",
       "      <td>15</td>\n",
       "      <td>FathersDay</td>\n",
       "    </tr>\n",
       "    <tr>\n",
       "      <th>54</th>\n",
       "      <td>2014</td>\n",
       "      <td>Jul</td>\n",
       "      <td>4</td>\n",
       "      <td>IndependenceDay</td>\n",
       "    </tr>\n",
       "    <tr>\n",
       "      <th>55</th>\n",
       "      <td>2014</td>\n",
       "      <td>Sep</td>\n",
       "      <td>1</td>\n",
       "      <td>LaborDay</td>\n",
       "    </tr>\n",
       "    <tr>\n",
       "      <th>56</th>\n",
       "      <td>2014</td>\n",
       "      <td>Oct</td>\n",
       "      <td>13</td>\n",
       "      <td>ColumbusDay</td>\n",
       "    </tr>\n",
       "    <tr>\n",
       "      <th>57</th>\n",
       "      <td>2014</td>\n",
       "      <td>Oct</td>\n",
       "      <td>31</td>\n",
       "      <td>Halloween</td>\n",
       "    </tr>\n",
       "  </tbody>\n",
       "</table>\n",
       "</div>"
      ],
      "text/plain": [
       "    year month  day             name\n",
       "53  2014   Jun   15       FathersDay\n",
       "54  2014   Jul    4  IndependenceDay\n",
       "55  2014   Sep    1         LaborDay\n",
       "56  2014   Oct   13      ColumbusDay\n",
       "57  2014   Oct   31        Halloween"
      ]
     },
     "execution_count": 7,
     "metadata": {},
     "output_type": "execute_result"
    }
   ],
   "source": [
    "hol = pd.read_table('holiday_names.txt', sep='\\s+', names = ['year', 'month', 'day', 'name'])\n",
    "hol.tail()"
   ]
  },
  {
   "cell_type": "code",
   "execution_count": 8,
   "metadata": {},
   "outputs": [
    {
     "data": {
      "text/plain": [
       "array(['Jan', 'Feb', 'Apr', 'May', 'Jun', 'Jul', 'Sep', 'Oct', 'Nov',\n",
       "       'Dec', 'Mar'], dtype=object)"
      ]
     },
     "execution_count": 8,
     "metadata": {},
     "output_type": "execute_result"
    }
   ],
   "source": [
    "hol.month.unique()"
   ]
  },
  {
   "cell_type": "code",
   "execution_count": 9,
   "metadata": {},
   "outputs": [
    {
     "name": "stdout",
     "output_type": "stream",
     "text": [
      "<class 'pandas.core.frame.DataFrame'>\n",
      "RangeIndex: 58 entries, 0 to 57\n",
      "Data columns (total 6 columns):\n",
      "year      58 non-null int64\n",
      "months    58 non-null object\n",
      "day       58 non-null int64\n",
      "name      58 non-null object\n",
      "month     58 non-null int64\n",
      "Date      58 non-null datetime64[ns]\n",
      "dtypes: datetime64[ns](1), int64(3), object(2)\n",
      "memory usage: 2.8+ KB\n"
     ]
    }
   ],
   "source": [
    "dic = {'Jan': 1,\n",
    "       'Feb': 2,\n",
    "        'Apr': 4,\n",
    "        'May': 5,\n",
    "        'Jun': 6,\n",
    "        'Jul': 7,\n",
    "        'Sep': 9,\n",
    "        'Oct': 10,\n",
    "        'Nov': 11,\n",
    "        'Dec': 12,\n",
    "        'Mar': 5}\n",
    "\n",
    "hol['monthnumber'] = hol.month.map(dic)\n",
    "\n",
    "hol.columns = ['year', 'months', 'day', 'name', 'month']\n",
    "\n",
    "\n",
    "hol = hol.assign(Date = pd.to_datetime(hol[['year', 'month', 'day']]))\n",
    "hol.info()"
   ]
  },
  {
   "cell_type": "code",
   "execution_count": 10,
   "metadata": {},
   "outputs": [],
   "source": [
    "df['year'] = df['date'].dt.year\n",
    "df['month'] = df['date'].dt.month\n",
    "df['day'] = df['date'].dt.day\n",
    "df['weekday'] = df[['date']].apply(lambda x: dt.datetime.strftime(x['date'], '%a'), axis=1)"
   ]
  },
  {
   "cell_type": "code",
   "execution_count": 11,
   "metadata": {},
   "outputs": [
    {
     "name": "stdout",
     "output_type": "stream",
     "text": [
      "<class 'pandas.core.frame.DataFrame'>\n",
      "Int64Index: 118696 entries, 0 to 118695\n",
      "Data columns (total 54 columns):\n",
      "date           118696 non-null datetime64[ns]\n",
      "store_nbr      118696 non-null int64\n",
      "item_nbr       118696 non-null int64\n",
      "units          118696 non-null int64\n",
      "station_nbr    118696 non-null int64\n",
      "tmax           118696 non-null object\n",
      "tmin           118696 non-null object\n",
      "tavg           118696 non-null object\n",
      "depart         118696 non-null object\n",
      "dewpoint       118696 non-null object\n",
      "wetbulb        118696 non-null object\n",
      "heat           118696 non-null object\n",
      "cool           118696 non-null object\n",
      "sunrise        118696 non-null object\n",
      "sunset         118696 non-null object\n",
      "snowfall       118696 non-null object\n",
      "preciptotal    118696 non-null object\n",
      "stnpressure    118696 non-null object\n",
      "sealevel       118696 non-null object\n",
      "resultspeed    118696 non-null object\n",
      "resultdir      118696 non-null object\n",
      "avgspeed       118696 non-null object\n",
      "BCFG           118696 non-null float64\n",
      "BLDU           118696 non-null float64\n",
      "BLSN           118696 non-null float64\n",
      "BR             118696 non-null float64\n",
      "DU             118696 non-null float64\n",
      "DZ             118696 non-null float64\n",
      "FG             118696 non-null float64\n",
      "FG+            118696 non-null float64\n",
      "FU             118696 non-null float64\n",
      "FZDZ           118696 non-null float64\n",
      "FZFG           118696 non-null float64\n",
      "FZRA           118696 non-null float64\n",
      "GR             118696 non-null float64\n",
      "GS             118696 non-null float64\n",
      "HZ             118696 non-null float64\n",
      "MIFG           118696 non-null float64\n",
      "PL             118696 non-null float64\n",
      "PRFG           118696 non-null float64\n",
      "RA             118696 non-null float64\n",
      "SG             118696 non-null float64\n",
      "SN             118696 non-null float64\n",
      "SQ             118696 non-null float64\n",
      "TS             118696 non-null float64\n",
      "TSRA           118696 non-null float64\n",
      "TSSN           118696 non-null float64\n",
      "UP             118696 non-null float64\n",
      "VCFG           118696 non-null float64\n",
      "VCTS           118696 non-null float64\n",
      "year           118696 non-null int64\n",
      "month          118696 non-null int64\n",
      "day            118696 non-null int64\n",
      "weekday        118696 non-null object\n",
      "dtypes: datetime64[ns](1), float64(28), int64(7), object(18)\n",
      "memory usage: 49.8+ MB\n"
     ]
    }
   ],
   "source": [
    "df.info()"
   ]
  },
  {
   "cell_type": "code",
   "execution_count": null,
   "metadata": {},
   "outputs": [],
   "source": [
    "# counting M\n",
    "\n",
    "columns = list(df.columns)\n",
    "\n",
    "def count_M(columns):\n",
    "    ls_M_counting = []\n",
    "    ls_M_columns= []\n",
    "    ls_all_counting = []\n",
    "    \n",
    "    for i in columns:\n",
    "        a = df[i].value_counts()\n",
    "        b = df[i].name\n",
    "        \n",
    "        if 'M' in a:\n",
    "            ls_M_counting.append(a['M'])\n",
    "            ls_M_columns.append(b)\n",
    "            ls_all_counting.append(a.sum())\n",
    "    return ls_M_counting, ls_M_columns, ls_all_counting\n",
    "\n",
    "        \n",
    "    \n",
    "k = count_M(columns)\n",
    "k = np.array(k).T\n",
    "\n",
    "M_columns = ['M', 'column', 'total']\n",
    "dfdf = pd.DataFrame(data = k, columns = M_columns)\n",
    "dfdf['M'] = dfdf['M'].astype(int)\n",
    "dfdf['total'] = dfdf['total'].astype(int)\n",
    "dfdf['Pct'] = dfdf['M'] / dfdf['total'] * 100\n",
    "dfdf.sort_values(by='Pct', ascending=False)"
   ]
  },
  {
   "cell_type": "code",
   "execution_count": null,
   "metadata": {},
   "outputs": [],
   "source": [
    "for col in df.columns:\n",
    "    "
   ]
  },
  {
   "cell_type": "code",
   "execution_count": null,
   "metadata": {},
   "outputs": [],
   "source": [
    "# M -> numeric\n",
    "\n",
    "for col in df.columns:\n",
    "    if df[col] == 'weekday': continue\n",
    "    elif df[col].dtypes == 'object':\n",
    "        df[col] = pd.to_numeric(df[col], errors='coerce')\n",
    "    else: continue\n"
   ]
  },
  {
   "cell_type": "code",
   "execution_count": null,
   "metadata": {},
   "outputs": [],
   "source": []
  }
 ],
 "metadata": {
  "kernelspec": {
   "display_name": "Python 3",
   "language": "python",
   "name": "python3"
  },
  "language_info": {
   "codemirror_mode": {
    "name": "ipython",
    "version": 3
   },
   "file_extension": ".py",
   "mimetype": "text/x-python",
   "name": "python",
   "nbconvert_exporter": "python",
   "pygments_lexer": "ipython3",
   "version": "3.6.4"
  }
 },
 "nbformat": 4,
 "nbformat_minor": 2
}
